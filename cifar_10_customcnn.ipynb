{
  "nbformat": 4,
  "nbformat_minor": 0,
  "metadata": {
    "colab": {
      "name": "cifar-10 customcnn.ipynb",
      "provenance": [],
      "collapsed_sections": [],
      "authorship_tag": "ABX9TyPjzHM4JNn8RB8qeCdBqBPz",
      "include_colab_link": true
    },
    "kernelspec": {
      "name": "python3",
      "display_name": "Python 3"
    },
    "language_info": {
      "name": "python"
    },
    "accelerator": "GPU"
  },
  "cells": [
    {
      "cell_type": "markdown",
      "metadata": {
        "id": "view-in-github",
        "colab_type": "text"
      },
      "source": [
        "<a href=\"https://colab.research.google.com/github/sairamadithya/cifar-10/blob/main/cifar_10_customcnn.ipynb\" target=\"_parent\"><img src=\"https://colab.research.google.com/assets/colab-badge.svg\" alt=\"Open In Colab\"/></a>"
      ]
    },
    {
      "cell_type": "markdown",
      "metadata": {
        "id": "I54c-Y78vKKE"
      },
      "source": [
        "STEPS FOLLOWED IN THIS NOTEBOOK\n",
        "1. IMPORTING ESSENTIAL LIBRARIES\n",
        "\n",
        "2. DATA SPLITTING AND TRANSFORMING\n",
        "\n",
        "3. MODEL CREATION\n",
        "\n",
        "4. MODEL COMPILATION\n",
        "\n",
        "5. MODEL TRAINING\n",
        "\n",
        "6. MODEL EVALUATION\n",
        "\n",
        "7. MODEL PREDICTION"
      ]
    },
    {
      "cell_type": "markdown",
      "metadata": {
        "id": "6kU8mN_BvhNV"
      },
      "source": [
        "# IMPORTING ESSENTIAL LIBRARIES\n",
        "\n",
        "i am using the tensorflow keras library to build,train and test the model. \n",
        "also the cifar-10 dataset is present in the keras library\n",
        "\n",
        "CIFAR-10\n",
        "cifar-10 as the name suggests consists of images of 10 classes which are arranged alphabetically. they are \n",
        "\n",
        "aeroplane\n",
        "\n",
        "automobile\n",
        "\n",
        "bird\n",
        "\n",
        "cat\n",
        "\n",
        "deer\n",
        "\n",
        "dog\n",
        "\n",
        "frog\n",
        "\n",
        "horse\n",
        "\n",
        "ship\n",
        "\n",
        "truck\n",
        "\n",
        "this dataset contains about 6000 images of the size 32*32 and is a very good dataset for starters\n"
      ]
    },
    {
      "cell_type": "code",
      "metadata": {
        "id": "YwiNgRbVUUNF"
      },
      "source": [
        "import numpy as np\n",
        "import matplotlib.pyplot as plt\n",
        "import tensorflow as tf\n",
        "from keras import Sequential\n",
        "from keras.layers import *\n",
        "from keras.preprocessing import image\n",
        "from keras.datasets import cifar10\n",
        "from tensorflow.keras.utils import to_categorical"
      ],
      "execution_count": null,
      "outputs": []
    },
    {
      "cell_type": "markdown",
      "metadata": {
        "id": "VoE0Sy6Dwatl"
      },
      "source": [
        "# DATA SPILTTING AND TRANSFORMING\n",
        "\n",
        "since there are 60000 images as a whole we have to split them into training and testing. \n",
        "\n",
        "x- images y-classes (labels)\n",
        "\n",
        "all colours in the universe have values in the range of (0,255) where white is 0 and black is 255.\n",
        "\n",
        "we apply a trnsformaton to the training and testing images x so as to convert the range of (0,255) to (0,1)\n",
        "\n",
        "since the y contains labels it cannot be used by the model.so it is essential to convert them into vectors by using the to_categorical"
      ]
    },
    {
      "cell_type": "code",
      "metadata": {
        "colab": {
          "base_uri": "https://localhost:8080/"
        },
        "id": "H82rhaJZUtFv",
        "outputId": "c20b7a3d-11fa-46ba-cc21-b2d3c207fffd"
      },
      "source": [
        "(xtrain,ytrain),(xtest,ytest)= cifar10.load_data()\n",
        "x_train = xtrain / 255.0\n",
        "y_train = to_categorical(ytrain, 10)\n",
        "\n",
        "x_test = xtest / 255.0\n",
        "y_test = to_categorical(ytest, 10)"
      ],
      "execution_count": null,
      "outputs": [
        {
          "output_type": "stream",
          "text": [
            "Downloading data from https://www.cs.toronto.edu/~kriz/cifar-10-python.tar.gz\n",
            "170500096/170498071 [==============================] - 4s 0us/step\n",
            "170508288/170498071 [==============================] - 4s 0us/step\n"
          ],
          "name": "stdout"
        }
      ]
    },
    {
      "cell_type": "markdown",
      "metadata": {
        "id": "d89pCPnkxSM3"
      },
      "source": [
        "now there are 50000 training images and 10000 testing images.\n",
        "\n",
        "the (32,32,3) refers to the 32 height 32 width and 3 colour channels (r,g,b)"
      ]
    },
    {
      "cell_type": "code",
      "metadata": {
        "colab": {
          "base_uri": "https://localhost:8080/"
        },
        "id": "es4tdjV3dMCK",
        "outputId": "cdbee7d6-a420-48d5-e973-ecc4ad41d91c"
      },
      "source": [
        "x_train.shape"
      ],
      "execution_count": null,
      "outputs": [
        {
          "output_type": "execute_result",
          "data": {
            "text/plain": [
              "(50000, 32, 32, 3)"
            ]
          },
          "metadata": {
            "tags": []
          },
          "execution_count": 3
        }
      ]
    },
    {
      "cell_type": "markdown",
      "metadata": {
        "id": "M2NCfKtHxfJ1"
      },
      "source": [
        "#MODEL CREATION\n",
        "\n",
        "the sequential of the keras is used to create a blank/empty model upon which the layers are stacked upon\n",
        "\n",
        "the convolutional neural network consists of the three layers namely the convolution, pooling and dense\n",
        "\n",
        "convolution= they scan the image in which the filters slide onto the input image and perform mathematical operations. they extract features from the image\n",
        "\n",
        "pooling= these layers are used to perform some mathematial computations and also reduce the parameters\n",
        "\n",
        "dense- these layers do the classification process. these layers are similar to those in the ANN (artificial neural network)\n",
        "\n",
        "the dropout layer is used to reduce overfitting (the deviation of testing curves from the training). this cuts off some of the connections in between layers. this is one of the stratergies adopted to prevent overfitting\n",
        "\n",
        "the gaussian noise is also used to prevent overfitting. adding noises to the input is an efficient technique to prevent overfitting"
      ]
    },
    {
      "cell_type": "code",
      "metadata": {
        "colab": {
          "base_uri": "https://localhost:8080/"
        },
        "id": "OvhidcvqZ2s8",
        "outputId": "5be35501-f36f-4a77-c892-64f67a22f6f5"
      },
      "source": [
        "model= Sequential()\n",
        "model.add(Conv2D(32,kernel_size=(3,3),activation='relu',input_shape=(32,32,3),padding='same'))\n",
        "model.add(Conv2D(32,kernel_size=(5,5),activation='relu',padding='same'))\n",
        "model.add(MaxPooling2D(pool_size=(2,2)))\n",
        "model.add(Dropout(0.15))\n",
        "model.add(Conv2D(64,kernel_size=(3,3),activation='relu',padding='same'))\n",
        "model.add(Conv2D(64,kernel_size=(3,3),activation='relu',padding='same'))\n",
        "model.add(MaxPooling2D(pool_size=(2,2)))\n",
        "model.add(Dropout(0.15))\n",
        "model.add(Conv2D(128,kernel_size=(1,1),activation='relu',padding='same'))\n",
        "model.add(Conv2D(128,kernel_size=(1,1),activation='relu',padding='same'))\n",
        "model.add(MaxPooling2D(pool_size=(2,2)))\n",
        "model.add(Dropout(0.15))\n",
        "model.add(GaussianNoise(0.25))\n",
        "model.add(Flatten())\n",
        "model.add(Dense(128, activation='relu'))\n",
        "model.add(Dense(10,activation='softmax'))\n",
        "model.summary()"
      ],
      "execution_count": null,
      "outputs": [
        {
          "output_type": "stream",
          "text": [
            "Model: \"sequential_6\"\n",
            "_________________________________________________________________\n",
            "Layer (type)                 Output Shape              Param #   \n",
            "=================================================================\n",
            "conv2d_36 (Conv2D)           (None, 32, 32, 32)        896       \n",
            "_________________________________________________________________\n",
            "conv2d_37 (Conv2D)           (None, 32, 32, 32)        25632     \n",
            "_________________________________________________________________\n",
            "max_pooling2d_18 (MaxPooling (None, 16, 16, 32)        0         \n",
            "_________________________________________________________________\n",
            "dropout_18 (Dropout)         (None, 16, 16, 32)        0         \n",
            "_________________________________________________________________\n",
            "conv2d_38 (Conv2D)           (None, 16, 16, 64)        18496     \n",
            "_________________________________________________________________\n",
            "conv2d_39 (Conv2D)           (None, 16, 16, 64)        36928     \n",
            "_________________________________________________________________\n",
            "max_pooling2d_19 (MaxPooling (None, 8, 8, 64)          0         \n",
            "_________________________________________________________________\n",
            "dropout_19 (Dropout)         (None, 8, 8, 64)          0         \n",
            "_________________________________________________________________\n",
            "conv2d_40 (Conv2D)           (None, 8, 8, 128)         8320      \n",
            "_________________________________________________________________\n",
            "conv2d_41 (Conv2D)           (None, 8, 8, 128)         16512     \n",
            "_________________________________________________________________\n",
            "max_pooling2d_20 (MaxPooling (None, 4, 4, 128)         0         \n",
            "_________________________________________________________________\n",
            "dropout_20 (Dropout)         (None, 4, 4, 128)         0         \n",
            "_________________________________________________________________\n",
            "gaussian_noise_6 (GaussianNo (None, 4, 4, 128)         0         \n",
            "_________________________________________________________________\n",
            "flatten_6 (Flatten)          (None, 2048)              0         \n",
            "_________________________________________________________________\n",
            "dense_12 (Dense)             (None, 128)               262272    \n",
            "_________________________________________________________________\n",
            "dense_13 (Dense)             (None, 10)                1290      \n",
            "=================================================================\n",
            "Total params: 370,346\n",
            "Trainable params: 370,346\n",
            "Non-trainable params: 0\n",
            "_________________________________________________________________\n"
          ],
          "name": "stdout"
        }
      ]
    },
    {
      "cell_type": "markdown",
      "metadata": {
        "id": "L47KunGazMwr"
      },
      "source": [
        "# MODEL COMPILATION\n",
        "\n",
        "the loss or error is defined as the difference between the actual and predicted outputs. an ideal model is the one which has zero loss. the function of the optimiser is to find the optimum values of parameters so that the loss is minimum. it does it by finding the gradient of the parameter with the output and updating the values based on the gradient. the metrics parameter can be used to track the efficieny of the model\n",
        "\n",
        "the optimiser used here is adam and the loss function is crossentropy. the metrics used is accuracy"
      ]
    },
    {
      "cell_type": "code",
      "metadata": {
        "id": "KS7Y6-gwbj0d"
      },
      "source": [
        "\n",
        "model.compile( optimizer='adam',\n",
        "               loss= 'categorical_crossentropy',\n",
        "               metrics=['accuracy'])\n"
      ],
      "execution_count": null,
      "outputs": []
    },
    {
      "cell_type": "markdown",
      "metadata": {
        "id": "5COQiJL5z9KA"
      },
      "source": [
        "# MODEL TRAINING\n",
        "\n",
        "here i have used two callbacks namely the modelcheckpoint and the earlystopping\n",
        "\n",
        "the modelcheckpoint is used to save the model with the best weights so that we need not train the model but we can load the model\n",
        "\n",
        "the earlystopping is used to halt the training process so as to find the ideal number of epochs. this is one of the stratergies to prevent overfitting\n",
        "\n",
        "the formula to be followed while training a model:-\n",
        "\n",
        "(steps_per_epoch)*(batch size)= number of training images\n",
        "\n",
        "there are 50000 training images, so a batch size of 16 requires 3125 steps_per_epoch"
      ]
    },
    {
      "cell_type": "code",
      "metadata": {
        "colab": {
          "base_uri": "https://localhost:8080/"
        },
        "id": "F3UmSCP2cOu7",
        "outputId": "0d380404-dc10-4c85-e1f4-e2eb037ee872"
      },
      "source": [
        "mp= tf.keras.callbacks.ModelCheckpoint('mymodel.hdf5',save_best_only=True)\n",
        "es= tf.keras.callbacks.EarlyStopping(monitor='val_loss',patience=6)\n",
        "callback=[mp,es]\n",
        "history= model.fit(\n",
        "         x_train,\n",
        "         y_train,\n",
        "         steps_per_epoch= 3125,\n",
        "         epochs= 50,\n",
        "         batch_size=16,\n",
        "         callbacks=callback,\n",
        "         validation_data= (x_test,y_test))"
      ],
      "execution_count": null,
      "outputs": [
        {
          "output_type": "stream",
          "text": [
            "Epoch 1/50\n",
            "3125/3125 [==============================] - 40s 5ms/step - loss: 1.9110 - accuracy: 0.2881 - val_loss: 1.3548 - val_accuracy: 0.5112\n",
            "Epoch 2/50\n",
            "3125/3125 [==============================] - 17s 5ms/step - loss: 1.2869 - accuracy: 0.5360 - val_loss: 1.0644 - val_accuracy: 0.6216\n",
            "Epoch 3/50\n",
            "3125/3125 [==============================] - 16s 5ms/step - loss: 1.0983 - accuracy: 0.6068 - val_loss: 1.0275 - val_accuracy: 0.6355\n",
            "Epoch 4/50\n",
            "3125/3125 [==============================] - 15s 5ms/step - loss: 0.9895 - accuracy: 0.6484 - val_loss: 0.9247 - val_accuracy: 0.6735\n",
            "Epoch 5/50\n",
            "3125/3125 [==============================] - 16s 5ms/step - loss: 0.9131 - accuracy: 0.6755 - val_loss: 0.9303 - val_accuracy: 0.6687\n",
            "Epoch 6/50\n",
            "3125/3125 [==============================] - 16s 5ms/step - loss: 0.8614 - accuracy: 0.6947 - val_loss: 0.8628 - val_accuracy: 0.6960\n",
            "Epoch 7/50\n",
            "3125/3125 [==============================] - 16s 5ms/step - loss: 0.8084 - accuracy: 0.7146 - val_loss: 0.8533 - val_accuracy: 0.7023\n",
            "Epoch 8/50\n",
            "3125/3125 [==============================] - 16s 5ms/step - loss: 0.7783 - accuracy: 0.7242 - val_loss: 0.8025 - val_accuracy: 0.7224\n",
            "Epoch 9/50\n",
            "3125/3125 [==============================] - 16s 5ms/step - loss: 0.7552 - accuracy: 0.7339 - val_loss: 0.8158 - val_accuracy: 0.7173\n",
            "Epoch 10/50\n",
            "3125/3125 [==============================] - 17s 5ms/step - loss: 0.7237 - accuracy: 0.7445 - val_loss: 0.8061 - val_accuracy: 0.7212\n",
            "Epoch 11/50\n",
            "3125/3125 [==============================] - 15s 5ms/step - loss: 0.7146 - accuracy: 0.7457 - val_loss: 0.7922 - val_accuracy: 0.7301\n",
            "Epoch 12/50\n",
            "3125/3125 [==============================] - 16s 5ms/step - loss: 0.6920 - accuracy: 0.7565 - val_loss: 0.7830 - val_accuracy: 0.7336\n",
            "Epoch 13/50\n",
            "3125/3125 [==============================] - 16s 5ms/step - loss: 0.6883 - accuracy: 0.7584 - val_loss: 0.7750 - val_accuracy: 0.7348\n",
            "Epoch 14/50\n",
            "3125/3125 [==============================] - 16s 5ms/step - loss: 0.6695 - accuracy: 0.7662 - val_loss: 0.7267 - val_accuracy: 0.7538\n",
            "Epoch 15/50\n",
            "3125/3125 [==============================] - 16s 5ms/step - loss: 0.6477 - accuracy: 0.7752 - val_loss: 0.7346 - val_accuracy: 0.7504\n",
            "Epoch 16/50\n",
            "3125/3125 [==============================] - 16s 5ms/step - loss: 0.6283 - accuracy: 0.7817 - val_loss: 0.7323 - val_accuracy: 0.7549\n",
            "Epoch 17/50\n",
            "3125/3125 [==============================] - 15s 5ms/step - loss: 0.6336 - accuracy: 0.7773 - val_loss: 0.7702 - val_accuracy: 0.7393\n",
            "Epoch 18/50\n",
            "3125/3125 [==============================] - 16s 5ms/step - loss: 0.6262 - accuracy: 0.7819 - val_loss: 0.7391 - val_accuracy: 0.7489\n",
            "Epoch 19/50\n",
            "3125/3125 [==============================] - 16s 5ms/step - loss: 0.6063 - accuracy: 0.7855 - val_loss: 0.7494 - val_accuracy: 0.7499\n",
            "Epoch 20/50\n",
            "3125/3125 [==============================] - 16s 5ms/step - loss: 0.5984 - accuracy: 0.7909 - val_loss: 0.7148 - val_accuracy: 0.7531\n",
            "Epoch 21/50\n",
            "3125/3125 [==============================] - 15s 5ms/step - loss: 0.5828 - accuracy: 0.7946 - val_loss: 0.7866 - val_accuracy: 0.7389\n",
            "Epoch 22/50\n",
            "3125/3125 [==============================] - 15s 5ms/step - loss: 0.5942 - accuracy: 0.7934 - val_loss: 0.7348 - val_accuracy: 0.7629\n",
            "Epoch 23/50\n",
            "3125/3125 [==============================] - 16s 5ms/step - loss: 0.5890 - accuracy: 0.7953 - val_loss: 0.7414 - val_accuracy: 0.7530\n",
            "Epoch 24/50\n",
            "3125/3125 [==============================] - 17s 6ms/step - loss: 0.5818 - accuracy: 0.7979 - val_loss: 0.7677 - val_accuracy: 0.7545\n",
            "Epoch 25/50\n",
            "3125/3125 [==============================] - 15s 5ms/step - loss: 0.5774 - accuracy: 0.7982 - val_loss: 0.7462 - val_accuracy: 0.7584\n",
            "Epoch 26/50\n",
            "3125/3125 [==============================] - 16s 5ms/step - loss: 0.5628 - accuracy: 0.8041 - val_loss: 0.7166 - val_accuracy: 0.7665\n"
          ],
          "name": "stdout"
        }
      ]
    },
    {
      "cell_type": "markdown",
      "metadata": {
        "id": "AyrfSBQj1CxH"
      },
      "source": [
        "#MODEL EVALUATION"
      ]
    },
    {
      "cell_type": "code",
      "metadata": {
        "colab": {
          "base_uri": "https://localhost:8080/"
        },
        "id": "nPjvdcJ4dwlk",
        "outputId": "50af5686-700b-4eba-82e4-da649a449193"
      },
      "source": [
        "model.evaluate(x_train,y_train)"
      ],
      "execution_count": null,
      "outputs": [
        {
          "output_type": "stream",
          "text": [
            "1563/1563 [==============================] - 7s 4ms/step - loss: 0.4056 - accuracy: 0.8595\n"
          ],
          "name": "stdout"
        },
        {
          "output_type": "execute_result",
          "data": {
            "text/plain": [
              "[0.4055658280849457, 0.8594599962234497]"
            ]
          },
          "metadata": {
            "tags": []
          },
          "execution_count": 55
        }
      ]
    },
    {
      "cell_type": "code",
      "metadata": {
        "colab": {
          "base_uri": "https://localhost:8080/"
        },
        "id": "taEwhufFd8w1",
        "outputId": "acad96a3-aec8-42e6-c40c-70b1e70b4ead"
      },
      "source": [
        "model.evaluate(x_test,y_test)"
      ],
      "execution_count": null,
      "outputs": [
        {
          "output_type": "stream",
          "text": [
            "313/313 [==============================] - 1s 4ms/step - loss: 0.7166 - accuracy: 0.7664\n"
          ],
          "name": "stdout"
        },
        {
          "output_type": "execute_result",
          "data": {
            "text/plain": [
              "[0.7165708541870117, 0.7663999795913696]"
            ]
          },
          "metadata": {
            "tags": []
          },
          "execution_count": 56
        }
      ]
    },
    {
      "cell_type": "markdown",
      "metadata": {
        "id": "ONn2XQaq1GLV"
      },
      "source": [
        "THE MODEL HAS PRODUCED THE FOLLOWING\n",
        "\n",
        "\n",
        "TRAINING LOSS- 0.405\n",
        "\n",
        "TRAINING ACCURACY- 85.9%\n",
        "\n",
        "VALIDATION LOSS- 0.716\n",
        "\n",
        "VALIDATION ACCURACY- 76.6%"
      ]
    },
    {
      "cell_type": "markdown",
      "metadata": {
        "id": "zCcEgd6A1bJB"
      },
      "source": [
        "#LOSS AND ACCURACY PLOTS OF THE MODEL"
      ]
    },
    {
      "cell_type": "code",
      "metadata": {
        "colab": {
          "base_uri": "https://localhost:8080/",
          "height": 295
        },
        "id": "vr_UjEjHe9nt",
        "outputId": "c2201774-a7d1-4a16-d315-61d940f2b631"
      },
      "source": [
        "plt.plot(history.history['accuracy'])\n",
        "plt.plot(history.history['val_accuracy'])\n",
        "plt.title('model accuracy')\n",
        "plt.ylabel('accuracy')\n",
        "plt.xlabel('epoch')\n",
        "plt.legend(['train', 'validation'], loc='upper left')\n",
        "plt.show()"
      ],
      "execution_count": null,
      "outputs": [
        {
          "output_type": "display_data",
          "data": {
            "image/png": "[encoded data removed]",
            "text/plain": [
              "<Figure size 432x288 with 1 Axes>"
            ]
          },
          "metadata": {
            "tags": [],
            "needs_background": "light"
          }
        }
      ]
    },
    {
      "cell_type": "code",
      "metadata": {
        "colab": {
          "base_uri": "https://localhost:8080/",
          "height": 295
        },
        "id": "gsF4GdEsnCas",
        "outputId": "b2fa95c8-a9f1-498e-9a1d-07fc891b95e6"
      },
      "source": [
        "plt.plot(history.history['loss'])\n",
        "plt.plot(history.history['val_loss'])\n",
        "plt.title('model accuracy')\n",
        "plt.ylabel('loss')\n",
        "plt.xlabel('epoch')\n",
        "plt.legend(['train', 'validation'], loc='upper left')\n",
        "plt.show()"
      ],
      "execution_count": null,
      "outputs": [
        {
          "output_type": "display_data",
          "data": {
            "image/png": "[encoded data removed]",
            "text/plain": [
              "<Figure size 432x288 with 1 Axes>"
            ]
          },
          "metadata": {
            "tags": [],
            "needs_background": "light"
          }
        }
      ]
    },
    {
      "cell_type": "markdown",
      "metadata": {
        "id": "HGwO19n_1hG3"
      },
      "source": [
        "the curves have just started to deviate. hence we have prevented overfitting by adopting some of the stratergies"
      ]
    },
    {
      "cell_type": "markdown",
      "metadata": {
        "id": "LrigvHWY1s_i"
      },
      "source": [
        "#MODEL PREDICTION"
      ]
    },
    {
      "cell_type": "code",
      "metadata": {
        "colab": {
          "base_uri": "https://localhost:8080/",
          "height": 476
        },
        "id": "jvHlSPitnMyd",
        "outputId": "8ce82b87-808f-4efa-cdbe-3ef9c424461f"
      },
      "source": [
        "print('PROJECT TESTING')\n",
        "print('use the following link to download the pictures')\n",
        "print('search for the following:- aeroplane automobile bird cat deer dog frog horse ship truck')\n",
        "print('https://www.pexels.com/')\n",
        "from keras.preprocessing import image\n",
        "img = image.load_img('frog.jpeg',target_size=(32,32))\n",
        "imag = image.img_to_array(img)\n",
        "image = np.expand_dims(img,axis=0)   ### flattening\n",
        "ypred = model.predict(image)\n",
        "print(ypred)\n",
        "if ypred[0][0]==1: \n",
        "    y='Aeroplane' \n",
        "elif ypred[0][1]==1: \n",
        "    y='Automobile'\n",
        "elif ypred[0][2]==1: \n",
        "    y='Bird' \n",
        "elif ypred[0][3]==1: \n",
        "    y='Cat' \n",
        "elif ypred[0][4]==1: \n",
        "    y='Deer' \n",
        "elif ypred[0][5]==1: \n",
        "    y='Dog' \n",
        "elif ypred[0][6]==1: \n",
        "    y='Frog' \n",
        "elif ypred[0][7]==1: \n",
        "    y='Horse' \n",
        "elif ypred[0][8]==1: \n",
        "    y='Ship' \n",
        "elif ypred[0][9]==1: \n",
        "    y='Truck'\n",
        "def plot_img(img):\n",
        "  plt.figure(figsize=(6,6))\n",
        "  plt.imshow(img)  \n",
        "  plt.title('')\n",
        "  plt.axis('off')\n",
        "plot_img(img)\n",
        "print('The uploaded image is classified as:'+str(y))\n",
        "print('THANK YOU FOR USING THIS PROJECT. HOPE THIS HELPS!!!!')"
      ],
      "execution_count": null,
      "outputs": [
        {
          "output_type": "stream",
          "text": [
            "PROJECT TESTING\n",
            "use the following link to download the pictures\n",
            "search for the following:- aeroplane automobile bird cat deer dog frog horse ship truck\n",
            "https://www.pexels.com/\n",
            "[[0. 0. 0. 0. 0. 0. 1. 0. 0. 0.]]\n",
            "The uploaded image is classified as:Frog\n",
            "THANK YOU FOR USING THIS PROJECT. HOPE THIS HELPS!!!!\n"
          ],
          "name": "stdout"
        },
        {
          "output_type": "display_data",
          "data": {
            "image/png": "[encoded data removed]",
            "text/plain": [
              "<Figure size 432x432 with 1 Axes>"
            ]
          },
          "metadata": {
            "tags": [],
            "needs_background": "light"
          }
        }
      ]
    },
    {
      "cell_type": "code",
      "metadata": {
        "id": "8M2nVhu9u5s9"
      },
      "source": [
        ""
      ],
      "execution_count": null,
      "outputs": []
    }
  ]
}